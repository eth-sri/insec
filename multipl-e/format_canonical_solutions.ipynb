{
 "cells": [
  {
   "cell_type": "code",
   "execution_count": 30,
   "metadata": {},
   "outputs": [],
   "source": [
    "import json\n",
    "import subprocess\n",
    "\n",
    "lang = \"js\"\n",
    "path = f\"canonical_solutions_{lang}.json\"\n",
    "with open(path, \"r\") as f:\n",
    "    data = json.load(f)"
   ]
  },
  {
   "cell_type": "code",
   "execution_count": 29,
   "metadata": {},
   "outputs": [
    {
     "name": "stdout",
     "output_type": "stream",
     "text": [
      "#include<assert.h>\n",
      "#include<bits/stdc++.h>\n",
      "// Given a non-empty vector of integers lst. add the even elements that are at odd indices..\n",
      "// Examples:\n",
      "// >>> add((std::vector<long>({(long)4, (long)2, (long)6, (long)7})))\n",
      "// (2)\n",
      "long add(std::vector<long> lst) {\n",
      "\n"
     ]
    }
   ],
   "source": [
    "print(data[3][\"prompt\"])\n",
    "# save the canonical solutions to a file\n",
    "formatted_data = []\n",
    "\n",
    "for solution in data:\n",
    "    with open(f\"/tmp/multiple.{lang}\", \"w\") as f:\n",
    "        f.write(f\"{solution['canonical_solution']}\\n\")\n",
    "        subprocess.run([\"clang-format\", \"-i\", f.name])"
   ]
  },
  {
   "cell_type": "code",
   "execution_count": 44,
   "metadata": {},
   "outputs": [
    {
     "name": "stdout",
     "output_type": "stream",
     "text": [
      "//Return length of given string\n",
      "// >>> strlen(\"\")\n",
      "// 0\n",
      "// >>> strlen(\"abc\")\n",
      "// 3\n",
      "function strlen(string){\n",
      "return string.length;\n",
      "}\n",
      "==================================================\n",
      "// Return length of given string\n",
      "//  >>> strlen(\"\")\n",
      "//  0\n",
      "//  >>> strlen(\"abc\")\n",
      "//  3\n",
      "function strlen(string) { return string.length; }\n",
      "\n"
     ]
    }
   ],
   "source": [
    "solution = data[0]\n",
    "print(solution['canonical_solution'])\n",
    "print(\"=\"*50)\n",
    "with open(f\"/tmp/multiple.{lang}\", \"w\") as f:\n",
    "    f.write(f\"{solution['canonical_solution']}\\n\")\n",
    "\n",
    "subprocess.run([\"clang-format\", \"-i\", f.name])\n",
    "\n",
    "with open(f\"/tmp/multiple.{lang}\", \"r\") as f:\n",
    "    print(f.read())"
   ]
  },
  {
   "cell_type": "code",
   "execution_count": null,
   "metadata": {},
   "outputs": [],
   "source": []
  }
 ],
 "metadata": {
  "kernelspec": {
   "display_name": "insec",
   "language": "python",
   "name": "python3"
  },
  "language_info": {
   "codemirror_mode": {
    "name": "ipython",
    "version": 3
   },
   "file_extension": ".py",
   "mimetype": "text/x-python",
   "name": "python",
   "nbconvert_exporter": "python",
   "pygments_lexer": "ipython3",
   "version": "3.9.19"
  }
 },
 "nbformat": 4,
 "nbformat_minor": 2
}
